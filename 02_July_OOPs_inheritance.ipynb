{
 "cells": [
  {
   "cell_type": "markdown",
   "id": "e5c2eeca",
   "metadata": {},
   "source": [
    "# 02_July_OOPs_inheritance"
   ]
  },
  {
   "cell_type": "markdown",
   "id": "c77cfdef",
   "metadata": {},
   "source": [
    "Q1:-"
   ]
  },
  {
   "cell_type": "markdown",
   "id": "a2015f95",
   "metadata": {},
   "source": [
    "Inheritance in OOP allows a subclass to inherit attributes and methods from a superclass. It promotes code reuse, hierarchy, and extensibility. Subclasses can add specific features or override inherited ones. It simplifies complex structures, supports polymorphism, and enhances maintainability."
   ]
  },
  {
   "cell_type": "markdown",
   "id": "f980fab8",
   "metadata": {},
   "source": [
    "Q2:-"
   ]
  },
  {
   "cell_type": "markdown",
   "id": "f5094d89",
   "metadata": {},
   "source": [
    "\n",
    "Single Inheritance:\n",
    "\n",
    "Inherits from one parent class.\n",
    "\n",
    "Simpler hierarchy, easier to manage.\n",
    "\n",
    "Reduced risk of conflicts.\n",
    "\n",
    "Multiple Inheritance:\n",
    "\n",
    "Inherits from multiple parent classes.\n",
    "\n",
    "Combines features, promotes reusability.\n",
    "\n",
    "Complex hierarchy, potential conflicts (diamond problem).\n",
    "\n",
    "Advantages:\n",
    "\n",
    "Single: Simplicity and clarity.\n",
    "\n",
    "Multiple: Reusability, versatility, complex relationships.\n",
    "\n",
    "Use Cases:\n",
    "\n",
    "Single: Clear, straightforward hierarchies.\n",
    "\n",
    "Multiple: Combining diverse features, complex scenarios.\n"
   ]
  },
  {
   "cell_type": "markdown",
   "id": "ed9ecdcd",
   "metadata": {},
   "source": [
    "Q3:-"
   ]
  },
  {
   "cell_type": "markdown",
   "id": "9e20e721",
   "metadata": {},
   "source": [
    "Base Class (Superclass):\n",
    "Class providing properties and behaviors.\n",
    "More general concept.\n",
    "\n",
    "Derived Class (Subclass):\n",
    "Class inheriting from a base class.\n",
    "Adds or modifies attributes and methods.\n",
    "More specific or specialized concept."
   ]
  },
  {
   "cell_type": "markdown",
   "id": "23569b5c",
   "metadata": {},
   "source": [
    "Q4:-"
   ]
  },
  {
   "cell_type": "markdown",
   "id": "5226a2b9",
   "metadata": {},
   "source": [
    "The \"protected\" access modifier in inheritance allows attributes and methods to be accessed within the class and its subclasses, striking a balance between encapsulation and reusability. It's more restrictive than \"public\" but less restrictive than \"private.\" \"Private\" restricts access to the class itself, while \"public\" allows access from anywhere."
   ]
  },
  {
   "cell_type": "markdown",
   "id": "67f7541d",
   "metadata": {},
   "source": [
    "Q5"
   ]
  },
  {
   "cell_type": "markdown",
   "id": "dd7422c3",
   "metadata": {},
   "source": [
    "\n",
    "The \"super\" keyword in inheritance is used to access and call methods or attributes from the superclass. It's handy when a subclass wants to extend or override the behavior of the superclass."
   ]
  },
  {
   "cell_type": "code",
   "execution_count": 1,
   "id": "9ea469ce",
   "metadata": {},
   "outputs": [
    {
     "name": "stdout",
     "output_type": "stream",
     "text": [
      "Animal speaks\n",
      "Dog barks\n"
     ]
    }
   ],
   "source": [
    "class Animal:\n",
    "    def speak(self):\n",
    "        print(\"Animal speaks\")\n",
    "\n",
    "class Dog(Animal):\n",
    "    def speak(self):\n",
    "        super().speak()  # Calling the speak method of the superclass\n",
    "        print(\"Dog barks\")\n",
    "\n",
    "dog = Dog()\n",
    "dog.speak()\n"
   ]
  },
  {
   "cell_type": "markdown",
   "id": "a0167cd8",
   "metadata": {},
   "source": [
    "Q6:-"
   ]
  },
  {
   "cell_type": "code",
   "execution_count": 2,
   "id": "81a340d0",
   "metadata": {},
   "outputs": [
    {
     "name": "stdout",
     "output_type": "stream",
     "text": [
      "Make: Toyota\n",
      "Model: Camry\n",
      "Year: 2022\n",
      "Fuel Type: Gasoline\n"
     ]
    }
   ],
   "source": [
    "class Vehicle:\n",
    "    def __init__(self, make, model, year):\n",
    "        self.make = make\n",
    "        self.model = model\n",
    "        self.year = year\n",
    "    \n",
    "    def display_info(self):\n",
    "        print(f\"Make: {self.make}\")\n",
    "        print(f\"Model: {self.model}\")\n",
    "        print(f\"Year: {self.year}\")\n",
    "\n",
    "class Car(Vehicle):\n",
    "    def __init__(self, make, model, year, fuel_type):\n",
    "        super().__init__(make, model, year)\n",
    "        self.fuel_type = fuel_type\n",
    "    \n",
    "    def display_info(self):\n",
    "        super().display_info()  # Calling the base class's display_info method\n",
    "        print(f\"Fuel Type: {self.fuel_type}\")\n",
    "\n",
    "# Creating an instance of Car\n",
    "my_car = Car(\"Toyota\", \"Camry\", 2022, \"Gasoline\")\n",
    "my_car.display_info()\n"
   ]
  },
  {
   "cell_type": "markdown",
   "id": "c4e3358f",
   "metadata": {},
   "source": [
    "Q7:-"
   ]
  },
  {
   "cell_type": "code",
   "execution_count": 3,
   "id": "1039fb90",
   "metadata": {},
   "outputs": [
    {
     "name": "stdout",
     "output_type": "stream",
     "text": [
      "Manager: John Doe 80000 HR\n",
      "Developer: Jane Smith 60000 Python\n"
     ]
    }
   ],
   "source": [
    "class Employee:\n",
    "    def __init__(self, name, salary):\n",
    "        self.name = name\n",
    "        self.salary = salary\n",
    "\n",
    "class Manager(Employee):\n",
    "    def __init__(self, name, salary, department):\n",
    "        super().__init__(name, salary)\n",
    "        self.department = department\n",
    "\n",
    "class Developer(Employee):\n",
    "    def __init__(self, name, salary, programming_language):\n",
    "        super().__init__(name, salary)\n",
    "        self.programming_language = programming_language\n",
    "\n",
    "# Creating instances of the derived classes\n",
    "manager = Manager(\"John Doe\", 80000, \"HR\")\n",
    "developer = Developer(\"Jane Smith\", 60000, \"Python\")\n",
    "\n",
    "# Accessing attributes\n",
    "print(\"Manager:\", manager.name, manager.salary, manager.department)\n",
    "print(\"Developer:\", developer.name, developer.salary, developer.programming_language)\n"
   ]
  },
  {
   "cell_type": "markdown",
   "id": "fcc48989",
   "metadata": {},
   "source": [
    "Q8:-"
   ]
  },
  {
   "cell_type": "code",
   "execution_count": 4,
   "id": "97787f25",
   "metadata": {},
   "outputs": [
    {
     "name": "stdout",
     "output_type": "stream",
     "text": [
      "Rectangle: Blue 2 10 5\n",
      "Circle: Red 1 7\n"
     ]
    }
   ],
   "source": [
    "class Shape:\n",
    "    def __init__(self, colour, border_width):\n",
    "        self.colour = colour\n",
    "        self.border_width = border_width\n",
    "\n",
    "class Rectangle(Shape):\n",
    "    def __init__(self, colour, border_width, length, width):\n",
    "        super().__init__(colour, border_width)\n",
    "        self.length = length\n",
    "        self.width = width\n",
    "\n",
    "class Circle(Shape):\n",
    "    def __init__(self, colour, border_width, radius):\n",
    "        super().__init__(colour, border_width)\n",
    "        self.radius = radius\n",
    "\n",
    "# Creating instances of the derived classes\n",
    "rectangle = Rectangle(\"Blue\", 2, 10, 5)\n",
    "circle = Circle(\"Red\", 1, 7)\n",
    "\n",
    "# Accessing attributes\n",
    "print(\"Rectangle:\", rectangle.colour, rectangle.border_width, rectangle.length, rectangle.width)\n",
    "print(\"Circle:\", circle.colour, circle.border_width, circle.radius)\n"
   ]
  },
  {
   "cell_type": "markdown",
   "id": "60488420",
   "metadata": {},
   "source": [
    "Q9:-"
   ]
  },
  {
   "cell_type": "code",
   "execution_count": 5,
   "id": "6e246122",
   "metadata": {},
   "outputs": [
    {
     "name": "stdout",
     "output_type": "stream",
     "text": [
      "Phone: Apple iPhone 12 6.1\n",
      "Tablet: Samsung Galaxy Tab S7 8000\n"
     ]
    }
   ],
   "source": [
    "class Device:\n",
    "    def __init__(self, brand, model):\n",
    "        self.brand = brand\n",
    "        self.model = model\n",
    "\n",
    "class Phone(Device):\n",
    "    def __init__(self, brand, model, screen_size):\n",
    "        super().__init__(brand, model)\n",
    "        self.screen_size = screen_size\n",
    "\n",
    "class Tablet(Device):\n",
    "    def __init__(self, brand, model, battery_capacity):\n",
    "        super().__init__(brand, model)\n",
    "        self.battery_capacity = battery_capacity\n",
    "\n",
    "# Creating instances of the derived classes\n",
    "phone = Phone(\"Apple\", \"iPhone 12\", 6.1)\n",
    "tablet = Tablet(\"Samsung\", \"Galaxy Tab S7\", 8000)\n",
    "\n",
    "# Accessing attributes\n",
    "print(\"Phone:\", phone.brand, phone.model, phone.screen_size)\n",
    "print(\"Tablet:\", tablet.brand, tablet.model, tablet.battery_capacity)\n"
   ]
  },
  {
   "cell_type": "markdown",
   "id": "b19453b0",
   "metadata": {},
   "source": [
    "Q10:-"
   ]
  },
  {
   "cell_type": "code",
   "execution_count": 6,
   "id": "84c85233",
   "metadata": {},
   "outputs": [
    {
     "name": "stdout",
     "output_type": "stream",
     "text": [
      "Savings Account: 123456 1000\n",
      "Checking Account: 987654 500\n",
      "Calculated interest: 25.0\n",
      "Fee deducted: True\n",
      "Updated Checking Account balance: 450\n"
     ]
    }
   ],
   "source": [
    "class BankAccount:\n",
    "    def __init__(self, account_number, balance):\n",
    "        self.account_number = account_number\n",
    "        self.balance = balance\n",
    "\n",
    "class SavingsAccount(BankAccount):\n",
    "    def __init__(self, account_number, balance):\n",
    "        super().__init__(account_number, balance)\n",
    "\n",
    "    def calculate_interest(self, interest_rate):\n",
    "        interest = self.balance * (interest_rate / 100)\n",
    "        return interest\n",
    "\n",
    "class CheckingAccount(BankAccount):\n",
    "    def __init__(self, account_number, balance):\n",
    "        super().__init__(account_number, balance)\n",
    "\n",
    "    def deduct_fees(self, fee_amount):\n",
    "        if self.balance >= fee_amount:\n",
    "            self.balance -= fee_amount\n",
    "            return True\n",
    "        else:\n",
    "            return False\n",
    "\n",
    "# Creating instances of the derived classes\n",
    "savings_account = SavingsAccount(\"123456\", 1000)\n",
    "checking_account = CheckingAccount(\"987654\", 500)\n",
    "\n",
    "# Accessing attributes and methods\n",
    "print(\"Savings Account:\", savings_account.account_number, savings_account.balance)\n",
    "print(\"Checking Account:\", checking_account.account_number, checking_account.balance)\n",
    "\n",
    "interest = savings_account.calculate_interest(2.5)\n",
    "print(\"Calculated interest:\", interest)\n",
    "\n",
    "fee_deducted = checking_account.deduct_fees(50)\n",
    "print(\"Fee deducted:\", fee_deducted)\n",
    "print(\"Updated Checking Account balance:\", checking_account.balance)\n"
   ]
  },
  {
   "cell_type": "code",
   "execution_count": null,
   "id": "a7d91104",
   "metadata": {},
   "outputs": [],
   "source": []
  }
 ],
 "metadata": {
  "kernelspec": {
   "display_name": "Python 3 (ipykernel)",
   "language": "python",
   "name": "python3"
  },
  "language_info": {
   "codemirror_mode": {
    "name": "ipython",
    "version": 3
   },
   "file_extension": ".py",
   "mimetype": "text/x-python",
   "name": "python",
   "nbconvert_exporter": "python",
   "pygments_lexer": "ipython3",
   "version": "3.9.13"
  }
 },
 "nbformat": 4,
 "nbformat_minor": 5
}
